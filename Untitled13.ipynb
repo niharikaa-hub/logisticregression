{
  "nbformat": 4,
  "nbformat_minor": 0,
  "metadata": {
    "colab": {
      "provenance": []
    },
    "kernelspec": {
      "name": "python3",
      "display_name": "Python 3"
    },
    "language_info": {
      "name": "python"
    }
  },
  "cells": [
    {
      "cell_type": "code",
      "execution_count": 1,
      "metadata": {
        "colab": {
          "base_uri": "https://localhost:8080/"
        },
        "id": "ceG9FmnWu7et",
        "outputId": "fa7e8fca-dc04-4936-e7aa-8e98b96a53a7"
      },
      "outputs": [
        {
          "output_type": "stream",
          "name": "stdout",
          "text": [
            "Accuracy: 0.8020833333333334\n",
            "Confusion Matrix:\n",
            " [[118  12]\n",
            " [ 26  36]]\n",
            "Classification Report:\n",
            "               precision    recall  f1-score   support\n",
            "\n",
            "           0       0.82      0.91      0.86       130\n",
            "           1       0.75      0.58      0.65        62\n",
            "\n",
            "    accuracy                           0.80       192\n",
            "   macro avg       0.78      0.74      0.76       192\n",
            "weighted avg       0.80      0.80      0.79       192\n",
            "\n"
          ]
        }
      ],
      "source": [
        "import pandas as pd\n",
        "from sklearn.model_selection import train_test_split\n",
        "from sklearn.preprocessing import StandardScaler\n",
        "from sklearn.linear_model import LogisticRegression\n",
        "from sklearn.metrics import accuracy_score, confusion_matrix, classification_report\n",
        "# Load the dataset\n",
        "data = pd.read_csv('/content/diabetes (2).csv')\n",
        "# Separate features (X) and target (y)\n",
        "X = data.iloc[:,:-1]\n",
        "Y= data.iloc[:,-1]\n",
        "# Split data into training and testing sets\n",
        "X_train, X_test, y_train, y_test = train_test_split(X, Y, test_size=0.25, random_state=0)\n",
        "# Feature scaling\n",
        "sc = StandardScaler()\n",
        "X_train = sc.fit_transform(X_train)\n",
        "X_test = sc.transform(X_test)\n",
        "# Create and train the logistic regression model\n",
        "classifier = LogisticRegression(random_state=0)\n",
        "classifier.fit(X_train, y_train)\n",
        "# Make predictions\n",
        "y_pred = classifier.predict(X_test)\n",
        "# Evaluate the model\n",
        "print(\"Accuracy:\", accuracy_score(y_test, y_pred))\n",
        "print(\"Confusion Matrix:\\n\", confusion_matrix(y_test, y_pred))\n",
        "print(\"Classification Report:\\n\", classification_report(y_test, y_pred))"
      ]
    }
  ]
}